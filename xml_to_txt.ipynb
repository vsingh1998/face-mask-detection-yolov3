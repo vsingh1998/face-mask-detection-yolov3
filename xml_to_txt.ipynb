{
 "metadata": {
  "language_info": {
   "codemirror_mode": {
    "name": "ipython",
    "version": 3
   },
   "file_extension": ".py",
   "mimetype": "text/x-python",
   "name": "python",
   "nbconvert_exporter": "python",
   "pygments_lexer": "ipython3",
   "version": "3.7.8-final"
  },
  "orig_nbformat": 2,
  "kernelspec": {
   "name": "python37864bit9803c137cd70425cbfa4638df3cea432",
   "display_name": "Python 3.7.8 64-bit"
  }
 },
 "nbformat": 4,
 "nbformat_minor": 2,
 "cells": [
  {
   "source": [
    "## Import necessary libraries"
   ],
   "cell_type": "markdown",
   "metadata": {}
  },
  {
   "cell_type": "code",
   "execution_count": 32,
   "metadata": {},
   "outputs": [],
   "source": [
    "import xml.etree.ElementTree as ET\n",
    "import os\n",
    "from os import listdir\n",
    "from os.path import join"
   ]
  },
  {
   "source": [
    "## Define classes"
   ],
   "cell_type": "markdown",
   "metadata": {}
  },
  {
   "cell_type": "code",
   "execution_count": 33,
   "metadata": {},
   "outputs": [],
   "source": [
    "classes = [\"mask_weared_incorrect\", \"with_mask\", \"without_mask\"]"
   ]
  },
  {
   "source": [
    "## Normalizing coordinates"
   ],
   "cell_type": "markdown",
   "metadata": {}
  },
  {
   "cell_type": "code",
   "execution_count": 34,
   "metadata": {},
   "outputs": [],
   "source": [
    "def convert(size, box):\n",
    "    dw = 1./(size[0])\n",
    "    dh = 1./(size[1])\n",
    "    x = (box[0] + box[1])/2.0 - 1\n",
    "    y = (box[2] + box[3])/2.0 - 1\n",
    "    w = box[1] - box[0]\n",
    "    h = box[3] - box[2]\n",
    "    x = x*dw\n",
    "    w = w*dw\n",
    "    y = y*dh\n",
    "    h = h*dh\n",
    "    return (x,y,w,h)"
   ]
  },
  {
   "source": [
    "## Extracting coordinates from .xml files"
   ],
   "cell_type": "markdown",
   "metadata": {}
  },
  {
   "cell_type": "code",
   "execution_count": 35,
   "metadata": {},
   "outputs": [],
   "source": [
    "def convert_annotation(image_id):\n",
    "    in_file = open('annotations/%s.xml'%(image_id), encoding = 'utf-8')\n",
    "    out_file = open('labels/%s.txt'%(image_id), 'w')\n",
    "    tree=ET.parse(in_file)\n",
    "    root = tree.getroot()\n",
    "    size = root.find('size')\n",
    "    w = int(size.find('width').text)\n",
    "    h = int(size.find('height').text)\n",
    " \n",
    "    for obj in root.iter('object'):\n",
    "        difficult = obj.find('difficult').text\n",
    "        cls = obj.find('name').text\n",
    "        if cls not in classes or int(difficult)==1:\n",
    "            continue\n",
    "        cls_id = classes.index(cls)\n",
    "        xmlbox = obj.find('bndbox')\n",
    "        b = (float(xmlbox.find('xmin').text), float(xmlbox.find('xmax').text), float(xmlbox.find('ymin').text), float(xmlbox.find('ymax').text))\n",
    "        bb = convert((w,h), b)\n",
    "        out_file.write(str(cls_id) + \" \" + \" \".join([str(a) for a in bb]) + '\\n')"
   ]
  },
  {
   "source": [
    "## Saving data"
   ],
   "cell_type": "markdown",
   "metadata": {}
  },
  {
   "cell_type": "code",
   "execution_count": 36,
   "metadata": {},
   "outputs": [],
   "source": [
    "val_percent = 0.1\n",
    "data_path = '../dataset/images/'\n",
    "if not os.path.exists('labels/'):\n",
    "    os.makedirs('labels/')\n",
    "image_ids = [f for f in os.listdir ( 'annotations')] # XML data storage folder\n",
    "train_file = open('train.txt', 'w')\n",
    "val_file = open('test.txt', 'w')\n",
    "for i, image_id in enumerate(image_ids):\n",
    "    if image_id [-3:] == \"xml\": # Sometimes jpg and xml files are placed in the same folder, so to determine what suffixes\n",
    "        if i < (len(image_ids) * val_percent):\n",
    "            val_file.write(data_path + '%s\\n'%(image_id[:-3] + 'jpg'))\n",
    "        else:\n",
    "            train_file.write(data_path + '%s\\n'%(image_id[:-3] + 'jpg'))\n",
    "    convert_annotation(image_id[:-4])\n",
    "train_file.close()\n",
    "val_file.close()"
   ]
  }
 ]
}